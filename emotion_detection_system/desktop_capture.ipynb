{
 "cells": [
  {
   "cell_type": "code",
   "execution_count": 1,
   "id": "3211b775",
   "metadata": {},
   "outputs": [],
   "source": [
    "# %pip install opencv-python deepface mysql-connector-python numpy scipy ulid-py"
   ]
  },
  {
   "cell_type": "code",
   "execution_count": 2,
   "id": "0e1a9533",
   "metadata": {},
   "outputs": [
    {
     "name": "stdout",
     "output_type": "stream",
     "text": [
      "WARNING:tensorflow:From c:\\Users\\Piss Off\\AppData\\Local\\Programs\\Python\\Python39\\lib\\site-packages\\tf_keras\\src\\losses.py:2976: The name tf.losses.sparse_softmax_cross_entropy is deprecated. Please use tf.compat.v1.losses.sparse_softmax_cross_entropy instead.\n",
      "\n"
     ]
    }
   ],
   "source": [
    "import cv2\n",
    "from deepface import DeepFace\n",
    "import mysql.connector\n",
    "import os\n",
    "import time\n",
    "from datetime import datetime\n",
    "import socket\n",
    "import numpy as np\n",
    "import json\n",
    "from scipy.spatial.distance import cosine\n",
    "import ulid  # For ULID face IDs"
   ]
  },
  {
   "cell_type": "markdown",
   "id": "37bf841f",
   "metadata": {},
   "source": [
    "# ==== Configuration ====\n"
   ]
  },
  {
   "cell_type": "code",
   "execution_count": 3,
   "id": "7ad8e960",
   "metadata": {},
   "outputs": [],
   "source": [
    "CHECK_INTERVAL = 10\n",
    "MAX_CAMERA_USE_TIME = 8\n",
    "CAPTURED_FACES_DIR = \"captured_faces\"\n",
    "EMBEDDING_MODEL = \"ArcFace\"\n",
    "MATCH_THRESHOLD = 0.45  # Adjust as needed"
   ]
  },
  {
   "cell_type": "markdown",
   "id": "27206830",
   "metadata": {},
   "source": [
    "# ==== Ensure storage directory exists ====\n"
   ]
  },
  {
   "cell_type": "code",
   "execution_count": 4,
   "id": "8b239ae9",
   "metadata": {},
   "outputs": [],
   "source": [
    "def ensure_dir(directory):\n",
    "    if not os.path.exists(directory):\n",
    "        os.makedirs(directory)"
   ]
  },
  {
   "cell_type": "markdown",
   "id": "b3c4ea44",
   "metadata": {},
   "source": [
    "# ==== Get Embeddings DB ===="
   ]
  },
  {
   "cell_type": "code",
   "execution_count": 5,
   "id": "a2cd275e",
   "metadata": {},
   "outputs": [],
   "source": [
    "def get_embeddings_db(cursor):\n",
    "    cursor.execute(\"SELECT face_id, embedding FROM captured_snapshots WHERE embedding IS NOT NULL\")\n",
    "    known = []\n",
    "    for face_id, emb_json in cursor.fetchall():\n",
    "        try:\n",
    "            emb = np.array(json.loads(emb_json), dtype=np.float64)\n",
    "            known.append((face_id, emb))\n",
    "        except Exception:\n",
    "            continue\n",
    "    return known"
   ]
  },
  {
   "cell_type": "markdown",
   "id": "722ecf1f",
   "metadata": {},
   "source": [
    "# ==== Get Face Embedding ===="
   ]
  },
  {
   "cell_type": "code",
   "execution_count": 6,
   "id": "de31834c",
   "metadata": {},
   "outputs": [],
   "source": [
    "def get_face_embedding(face_img):\n",
    "    try:\n",
    "        # DeepFace expects a file path or numpy array (BGR)\n",
    "        reps = DeepFace.represent(face_img, model_name=EMBEDDING_MODEL, enforce_detection=False)\n",
    "        if reps and isinstance(reps, list):\n",
    "            emb = reps[0]['embedding']\n",
    "            return np.array(emb, dtype=np.float64)\n",
    "    except Exception as e:\n",
    "        print(f\"❌ Embedding error: {e}\")\n",
    "    return None"
   ]
  },
  {
   "cell_type": "markdown",
   "id": "92d95362",
   "metadata": {},
   "source": [
    "# ==== Match Face ID ===="
   ]
  },
  {
   "cell_type": "code",
   "execution_count": 7,
   "id": "9832a399",
   "metadata": {},
   "outputs": [],
   "source": [
    "def match_face_id(embedding, known, threshold=MATCH_THRESHOLD):\n",
    "    for face_id, known_emb in known:\n",
    "        dist = cosine(embedding, known_emb)\n",
    "        if dist < threshold:\n",
    "            return face_id\n",
    "    return None"
   ]
  },
  {
   "cell_type": "markdown",
   "id": "2541781d",
   "metadata": {},
   "source": [
    "# ==== Generate ULID Face ID ===="
   ]
  },
  {
   "cell_type": "code",
   "execution_count": 8,
   "id": "44072f50",
   "metadata": {},
   "outputs": [],
   "source": [
    "# ==== Generate ULID Face ID ====\n",
    "def generate_ulid():\n",
    "    return str(ulid.new())"
   ]
  },
  {
   "cell_type": "markdown",
   "id": "c01a3185",
   "metadata": {},
   "source": [
    "# ==== Assign and Reuse Face IDs ===="
   ]
  },
  {
   "cell_type": "code",
   "execution_count": 9,
   "id": "585879c0",
   "metadata": {},
   "outputs": [],
   "source": [
    "# def get_or_create_face_id(pc_name):\n",
    "#     face_id_file = f\"{pc_name}_face_id.txt\"\n",
    "#     if os.path.exists(face_id_file):\n",
    "#         with open(face_id_file, \"r\") as f:\n",
    "#             return f.read().strip()\n",
    "#     else:\n",
    "#         import uuid\n",
    "#         face_id = f\"{pc_name}_{uuid.uuid4().hex[:8]}\"\n",
    "#         with open(face_id_file, \"w\") as f:\n",
    "#             f.write(face_id)\n",
    "#         return face_id"
   ]
  },
  {
   "cell_type": "markdown",
   "id": "53a7acc3",
   "metadata": {},
   "source": [
    "# ====  Save to Database ===="
   ]
  },
  {
   "cell_type": "code",
   "execution_count": 15,
   "id": "d681aa64",
   "metadata": {},
   "outputs": [],
   "source": [
    "def save_snapshot_to_db(self, face_id, pc_name, image_path, timestamp, embedding):\n",
    "    sql = \"\"\"\n",
    "        INSERT INTO captured_snapshots (face_id, pc_name, image_path, timestamp, embedding)\n",
    "        VALUES (%s, %s, %s, %s, %s)\n",
    "    \"\"\"\n",
    "    emb_json = json.dumps(embedding.tolist()) if embedding is not None else None\n",
    "\n",
    "    # Ensure timestamp is a datetime object\n",
    "    if isinstance(timestamp, str):\n",
    "        timestamp = datetime.strptime(timestamp, '%Y-%m-%d %H:%M:%S')\n",
    "\n",
    "    self.cursor.execute(sql, (face_id, pc_name, image_path, timestamp, emb_json))\n",
    "    self.db.commit()\n"
   ]
  },
  {
   "cell_type": "markdown",
   "id": "a0767964",
   "metadata": {},
   "source": [
    "# ==== Main Background Face Recognition Class ====\n"
   ]
  },
  {
   "cell_type": "code",
   "execution_count": 16,
   "id": "2ab5e986",
   "metadata": {},
   "outputs": [],
   "source": [
    "class BackgroundFaceCapture:\n",
    "    def __init__(self):\n",
    "        self.db = mysql.connector.connect(\n",
    "            host=\"localhost\",\n",
    "            user=\"root\",\n",
    "            password=\"\",\n",
    "            database=\"emotion_detection\"\n",
    "        )\n",
    "        self.cursor = self.db.cursor()\n",
    "        self.pc_name = socket.gethostname()\n",
    "        ensure_dir(CAPTURED_FACES_DIR)\n",
    "\n",
    "    def save_snapshot(self, face_img, face_id, timestamp, embedding):\n",
    "        font = cv2.FONT_HERSHEY_SIMPLEX\n",
    "        # Always use a Python datetime object for timestamp\n",
    "        if not isinstance(timestamp, datetime):\n",
    "            timestamp = datetime.now()\n",
    "\n",
    "        timestamp_str = timestamp.strftime('%Y%m%d_%H%M%S')  # for filenames\n",
    "        timestamp_text = f\"Captured: {timestamp_str}\"\n",
    "\n",
    "        # Overlay timestamp on image\n",
    "        cv2.putText(face_img, timestamp_text, (10, 30), font, 0.8, (0, 255, 0), 2, cv2.LINE_AA)\n",
    "\n",
    "        # Save image to file\n",
    "        filename = f\"{face_id}_{timestamp_str}.jpg\"\n",
    "        path = os.path.join(CAPTURED_FACES_DIR, filename)\n",
    "        saved = cv2.imwrite(path, face_img)\n",
    "\n",
    "        if saved:\n",
    "            print(f\"📸 Snapshot saved: {path}\")\n",
    "            # ✅ Pass datetime object directly (not string)\n",
    "            save_snapshot_to_db(self, face_id, self.pc_name, path, timestamp, embedding)\n",
    "        else:\n",
    "            print(\"❌ Failed to save snapshot\")\n",
    "\n",
    "\n",
    "    def process_frame(self, frame):\n",
    "        try:\n",
    "            faces = DeepFace.extract_faces(frame, enforce_detection=False)\n",
    "            if not faces:\n",
    "                print(\"⚠️ No face detected.\")\n",
    "                return None\n",
    "\n",
    "            # Load known embeddings from DB\n",
    "            known = get_embeddings_db(self.cursor)\n",
    "\n",
    "            for face in faces:\n",
    "                area = face['facial_area']\n",
    "                x, y, w, h = area['x'], area['y'], area['w'], area['h']\n",
    "                pad_y = int(h * 0.6)\n",
    "                pad_x = int(w * 0.4)\n",
    "                x1 = max(0, x - pad_x)\n",
    "                y1 = max(0, y - pad_y)\n",
    "                x2 = min(frame.shape[1], x + w + pad_x)\n",
    "                y2 = min(frame.shape[0], y + h + pad_y)\n",
    "                face_img = frame[y1:y2, x1:x2]\n",
    "\n",
    "                # Enhance clarity under glasses using CLAHE\n",
    "                gray = cv2.cvtColor(face_img, cv2.COLOR_BGR2GRAY)\n",
    "                clahe = cv2.createCLAHE(clipLimit=2.0, tileGridSize=(8, 8))\n",
    "                enhanced_gray = clahe.apply(gray)\n",
    "                face_img_clahe = cv2.cvtColor(enhanced_gray, cv2.COLOR_GRAY2BGR)\n",
    "\n",
    "                # Get embedding for this face\n",
    "                embedding = get_face_embedding(face_img_clahe)\n",
    "                if embedding is None:\n",
    "                    print(\"⚠️ Could not extract embedding for face.\")\n",
    "                    continue\n",
    "\n",
    "                # Try to match with known faces\n",
    "                matched_id = match_face_id(embedding, known)\n",
    "                if matched_id:\n",
    "                    face_id = matched_id\n",
    "                    print(f\"✅ Matched existing face_id: {face_id}\")\n",
    "                else:\n",
    "                    # New individual: use ULID\n",
    "                    face_id = generate_ulid()\n",
    "                    print(f\"🆕 New face detected, assigned ULID: {face_id}\")\n",
    "\n",
    "                # Always use a proper datetime object for timestamp\n",
    "                timestamp = datetime.now()\n",
    "                self.save_snapshot(face_img_clahe, face_id, timestamp, embedding)\n",
    "\n",
    "        except Exception as e:\n",
    "            print(f\"⚠️ Face processing error: {e}\")\n",
    "\n",
    "    def _try_get_camera(self):\n",
    "        for i in range(3):\n",
    "            cap = cv2.VideoCapture(i, cv2.CAP_DSHOW)\n",
    "            if cap.isOpened():\n",
    "                return cap\n",
    "        print(\"❌ No available camera found.\")\n",
    "        return None\n",
    "\n",
    "    def run(self):\n",
    "        print(\"🔄 Background face capture started...\")\n",
    "        while True:\n",
    "            cap = self._try_get_camera()\n",
    "            if cap:\n",
    "                start_time = time.time()\n",
    "                while time.time() - start_time < MAX_CAMERA_USE_TIME:\n",
    "                    ret, frame = cap.read()\n",
    "                    if ret:\n",
    "                        self.process_frame(frame)\n",
    "                cap.release()\n",
    "            time.sleep(CHECK_INTERVAL)"
   ]
  },
  {
   "cell_type": "markdown",
   "id": "58e252ee",
   "metadata": {},
   "source": [
    "# ==== Start the service ====\n"
   ]
  },
  {
   "cell_type": "code",
   "execution_count": 17,
   "id": "7b6f4662",
   "metadata": {},
   "outputs": [
    {
     "name": "stdout",
     "output_type": "stream",
     "text": [
      "🔄 Background face capture started...\n",
      "🆕 New face detected, assigned ULID: 01K363NP0KDX5DXENBYSFVBS79\n",
      "📸 Snapshot saved: captured_faces\\01K363NP0KDX5DXENBYSFVBS79_20250821_104425.jpg\n",
      "🆕 New face detected, assigned ULID: 01K363NP0KDX5DXENBYSFVBS79\n",
      "📸 Snapshot saved: captured_faces\\01K363NP0KDX5DXENBYSFVBS79_20250821_104425.jpg\n",
      "✅ Matched existing face_id: 01K363NP0KDX5DXENBYSFVBS79\n",
      "📸 Snapshot saved: captured_faces\\01K363NP0KDX5DXENBYSFVBS79_20250821_104426.jpg\n",
      "✅ Matched existing face_id: 01K363NP0KDX5DXENBYSFVBS79\n",
      "📸 Snapshot saved: captured_faces\\01K363NP0KDX5DXENBYSFVBS79_20250821_104426.jpg\n",
      "✅ Matched existing face_id: 01K363NP0KDX5DXENBYSFVBS79\n",
      "📸 Snapshot saved: captured_faces\\01K363NP0KDX5DXENBYSFVBS79_20250821_104428.jpg\n",
      "✅ Matched existing face_id: 01K363NP0KDX5DXENBYSFVBS79\n",
      "📸 Snapshot saved: captured_faces\\01K363NP0KDX5DXENBYSFVBS79_20250821_104428.jpg\n",
      "✅ Matched existing face_id: 01K362ZWTA8RSRNX0EFJM1C5SW\n",
      "📸 Snapshot saved: captured_faces\\01K362ZWTA8RSRNX0EFJM1C5SW_20250821_104429.jpg\n",
      "✅ Matched existing face_id: 01K362ZWTA8RSRNX0EFJM1C5SW\n",
      "📸 Snapshot saved: captured_faces\\01K362ZWTA8RSRNX0EFJM1C5SW_20250821_104429.jpg\n",
      "✅ Matched existing face_id: 01K363NP0KDX5DXENBYSFVBS79\n",
      "📸 Snapshot saved: captured_faces\\01K363NP0KDX5DXENBYSFVBS79_20250821_104431.jpg\n",
      "✅ Matched existing face_id: 01K363NP0KDX5DXENBYSFVBS79\n",
      "📸 Snapshot saved: captured_faces\\01K363NP0KDX5DXENBYSFVBS79_20250821_104431.jpg\n",
      "🛑 Background service stopped manually.\n",
      "🛑 Background service stopped manually.\n"
     ]
    }
   ],
   "source": [
    "if __name__ == \"__main__\":\n",
    "    recognizer = None\n",
    "    try:\n",
    "        recognizer = BackgroundFaceCapture()\n",
    "        recognizer.run()\n",
    "    except KeyboardInterrupt:\n",
    "        print(\"🛑 Background service stopped manually.\")\n",
    "    finally:\n",
    "        if recognizer is not None:\n",
    "            recognizer.db.close()"
   ]
  }
 ],
 "metadata": {
  "kernelspec": {
   "display_name": "Python 3",
   "language": "python",
   "name": "python3"
  },
  "language_info": {
   "codemirror_mode": {
    "name": "ipython",
    "version": 3
   },
   "file_extension": ".py",
   "mimetype": "text/x-python",
   "name": "python",
   "nbconvert_exporter": "python",
   "pygments_lexer": "ipython3",
   "version": "3.9.9"
  }
 },
 "nbformat": 4,
 "nbformat_minor": 5
}
