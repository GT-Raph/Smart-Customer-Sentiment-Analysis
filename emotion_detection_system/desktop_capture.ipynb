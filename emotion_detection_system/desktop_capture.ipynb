{
 "cells": [
  {
   "cell_type": "code",
   "execution_count": 1,
   "id": "3211b775",
   "metadata": {},
   "outputs": [],
   "source": [
    "# %pip install opencv-python deepface mysql-connector-python numpy scipy"
   ]
  },
  {
   "cell_type": "code",
   "execution_count": 2,
   "id": "0e1a9533",
   "metadata": {},
   "outputs": [
    {
     "name": "stdout",
     "output_type": "stream",
     "text": [
      "WARNING:tensorflow:From c:\\Users\\Piss Off\\AppData\\Local\\Programs\\Python\\Python39\\lib\\site-packages\\tf_keras\\src\\losses.py:2976: The name tf.losses.sparse_softmax_cross_entropy is deprecated. Please use tf.compat.v1.losses.sparse_softmax_cross_entropy instead.\n",
      "\n"
     ]
    }
   ],
   "source": [
    "import cv2\n",
    "from deepface import DeepFace\n",
    "import mysql.connector\n",
    "import os\n",
    "import time\n",
    "from datetime import datetime\n",
    "import socket\n",
    "import numpy as np"
   ]
  },
  {
   "cell_type": "markdown",
   "id": "37bf841f",
   "metadata": {},
   "source": [
    "# ==== Configuration ====\n"
   ]
  },
  {
   "cell_type": "code",
   "execution_count": 3,
   "id": "7ad8e960",
   "metadata": {},
   "outputs": [],
   "source": [
    "CHECK_INTERVAL = 20                # Time between each camera activation (seconds)\n",
    "MAX_CAMERA_USE_TIME = 5           # Duration to use camera during each activation (seconds)\n",
    "CAPTURED_FACES_DIR = \"captured_faces\"  # Directory to save captured face snapshots"
   ]
  },
  {
   "cell_type": "markdown",
   "id": "27206830",
   "metadata": {},
   "source": [
    "# ==== Ensure storage directory exists ====\n"
   ]
  },
  {
   "cell_type": "code",
   "execution_count": 4,
   "id": "8b239ae9",
   "metadata": {},
   "outputs": [],
   "source": [
    "def ensure_dir(directory):\n",
    "    \"\"\"Creates directory if it doesn't exist.\"\"\"\n",
    "    if not os.path.exists(directory):\n",
    "        os.makedirs(directory)"
   ]
  },
  {
   "cell_type": "markdown",
   "id": "a0767964",
   "metadata": {},
   "source": [
    "# ==== Main Background Face Recognition Class ====\n"
   ]
  },
  {
   "cell_type": "code",
   "execution_count": 5,
   "id": "2ab5e986",
   "metadata": {},
   "outputs": [],
   "source": [
    "class BackgroundFaceCapture:\n",
    "    def __init__(self):\n",
    "        self.db = mysql.connector.connect(\n",
    "            host=\"localhost\",\n",
    "            user=\"root\",\n",
    "            password=\"\",\n",
    "            database=\"emotion_detection\"\n",
    "        )\n",
    "        self.cursor = self.db.cursor()\n",
    "        self.pc_name = socket.gethostname()\n",
    "        ensure_dir(CAPTURED_FACES_DIR)\n",
    "\n",
    "    def save_snapshot(self, face_img, face_id, timestamp):\n",
    "        \"\"\"Saves a snapshot of the face into the captured_faces/ directory with timestamp.\"\"\"\n",
    "        font = cv2.FONT_HERSHEY_SIMPLEX\n",
    "        timestamp_text = f\"Captured: {timestamp}\"\n",
    "        cv2.putText(face_img, timestamp_text, (10, 30), font, 0.8, (0, 255, 0), 2, cv2.LINE_AA)\n",
    "\n",
    "        filename = f\"{face_id}_{timestamp}.jpg\"\n",
    "        path = os.path.join(CAPTURED_FACES_DIR, filename)\n",
    "        saved = cv2.imwrite(path, face_img)\n",
    "        if saved:\n",
    "            print(f\"📸 Snapshot saved: {path}\")\n",
    "        else:\n",
    "            print(\"❌ Failed to save snapshot\")\n",
    "\n",
    "    def process_frame(self, frame):\n",
    "        \"\"\"Detects and captures face snapshots with full head framing and glasses handling.\"\"\"\n",
    "        try:\n",
    "            faces = DeepFace.extract_faces(frame, enforce_detection=False)\n",
    "            if not faces:\n",
    "                print(\"⚠️ No face detected.\")\n",
    "                return None\n",
    "\n",
    "            for face in faces:\n",
    "                area = face['facial_area']\n",
    "                x = area['x']\n",
    "                y = area['y']\n",
    "                w = area['w']\n",
    "                h = area['h']\n",
    "\n",
    "                # Add padding to include full head and avoid cropping glasses\n",
    "                pad_y = int(h * 0.6)\n",
    "                pad_x = int(w * 0.4)\n",
    "                x1 = max(0, x - pad_x)\n",
    "                y1 = max(0, y - pad_y)\n",
    "                x2 = min(frame.shape[1], x + w + pad_x)\n",
    "                y2 = min(frame.shape[0], y + h + pad_y)\n",
    "\n",
    "                face_img = frame[y1:y2, x1:x2]\n",
    "\n",
    "                # Enhance clarity under glasses using CLAHE\n",
    "                gray = cv2.cvtColor(face_img, cv2.COLOR_BGR2GRAY)\n",
    "                clahe = cv2.createCLAHE(clipLimit=2.0, tileGridSize=(8, 8))\n",
    "                enhanced_gray = clahe.apply(gray)\n",
    "                face_img_clahe = cv2.cvtColor(enhanced_gray, cv2.COLOR_GRAY2BGR)\n",
    "\n",
    "                # Save the face snapshot\n",
    "                timestamp = datetime.now().strftime('%Y%m%d_%H%M%S')\n",
    "                face_id = f\"{self.pc_name}_user\"\n",
    "                self.save_snapshot(face_img_clahe, face_id, timestamp)\n",
    "\n",
    "        except Exception as e:\n",
    "            print(f\"⚠️ Face processing error: {e}\")\n",
    "\n",
    "    def _try_get_camera(self):\n",
    "        \"\"\"Attempts to access an available camera.\"\"\"\n",
    "        for i in range(3):\n",
    "            cap = cv2.VideoCapture(i, cv2.CAP_DSHOW)\n",
    "            if cap.isOpened():\n",
    "                return cap\n",
    "        print(\"❌ No available camera found.\")\n",
    "        return None\n",
    "\n",
    "    def run(self):\n",
    "        \"\"\"Main loop to run the background face capture.\"\"\"\n",
    "        print(\"🔄 Background face capture started...\")\n",
    "        while True:\n",
    "            cap = self._try_get_camera()\n",
    "            if cap:\n",
    "                start_time = time.time()\n",
    "                while time.time() - start_time < MAX_CAMERA_USE_TIME:\n",
    "                    ret, frame = cap.read()\n",
    "                    if ret:\n",
    "                        self.process_frame(frame)\n",
    "                cap.release()\n",
    "            time.sleep(CHECK_INTERVAL)"
   ]
  },
  {
   "cell_type": "markdown",
   "id": "58e252ee",
   "metadata": {},
   "source": [
    "# ==== Start the service ====\n"
   ]
  },
  {
   "cell_type": "code",
   "execution_count": null,
   "id": "7b6f4662",
   "metadata": {},
   "outputs": [
    {
     "name": "stdout",
     "output_type": "stream",
     "text": [
      "🔄 Background face capture started...\n",
      "📸 Snapshot saved: captured_faces\\Piss-Off_user_20250523_203228.jpg\n",
      "📸 Snapshot saved: captured_faces\\Piss-Off_user_20250523_203228.jpg\n",
      "📸 Snapshot saved: captured_faces\\Piss-Off_user_20250523_203229.jpg\n",
      "📸 Snapshot saved: captured_faces\\Piss-Off_user_20250523_203230.jpg\n",
      "📸 Snapshot saved: captured_faces\\Piss-Off_user_20250523_203231.jpg\n",
      "📸 Snapshot saved: captured_faces\\Piss-Off_user_20250523_203253.jpg\n",
      "📸 Snapshot saved: captured_faces\\Piss-Off_user_20250523_203254.jpg\n",
      "📸 Snapshot saved: captured_faces\\Piss-Off_user_20250523_203255.jpg\n",
      "📸 Snapshot saved: captured_faces\\Piss-Off_user_20250523_203256.jpg\n",
      "📸 Snapshot saved: captured_faces\\Piss-Off_user_20250523_203257.jpg\n",
      "📸 Snapshot saved: captured_faces\\Piss-Off_user_20250523_203258.jpg\n",
      "📸 Snapshot saved: captured_faces\\Piss-Off_user_20250523_203321.jpg\n",
      "📸 Snapshot saved: captured_faces\\Piss-Off_user_20250523_203321.jpg\n",
      "📸 Snapshot saved: captured_faces\\Piss-Off_user_20250523_203322.jpg\n",
      "📸 Snapshot saved: captured_faces\\Piss-Off_user_20250523_203323.jpg\n",
      "📸 Snapshot saved: captured_faces\\Piss-Off_user_20250523_203324.jpg\n",
      "📸 Snapshot saved: captured_faces\\Piss-Off_user_20250523_203326.jpg\n",
      "📸 Snapshot saved: captured_faces\\Piss-Off_user_20250523_203349.jpg\n",
      "📸 Snapshot saved: captured_faces\\Piss-Off_user_20250523_203349.jpg\n",
      "📸 Snapshot saved: captured_faces\\Piss-Off_user_20250523_203350.jpg\n",
      "📸 Snapshot saved: captured_faces\\Piss-Off_user_20250523_203351.jpg\n",
      "📸 Snapshot saved: captured_faces\\Piss-Off_user_20250523_203352.jpg\n",
      "📸 Snapshot saved: captured_faces\\Piss-Off_user_20250523_203353.jpg\n",
      "📸 Snapshot saved: captured_faces\\Piss-Off_user_20250523_203415.jpg\n",
      "📸 Snapshot saved: captured_faces\\Piss-Off_user_20250523_203416.jpg\n",
      "📸 Snapshot saved: captured_faces\\Piss-Off_user_20250523_203419.jpg\n"
     ]
    }
   ],
   "source": [
    "if __name__ == \"__main__\":\n",
    "    recognizer = None\n",
    "    try:\n",
    "        recognizer = BackgroundFaceCapture()\n",
    "        recognizer.run()\n",
    "    except KeyboardInterrupt:\n",
    "        print(\"🛑 Background service stopped manually.\")\n",
    "    finally:\n",
    "        if recognizer is not None:\n",
    "            recognizer.db.close()\n"
   ]
  }
 ],
 "metadata": {
  "kernelspec": {
   "display_name": "Python 3",
   "language": "python",
   "name": "python3"
  },
  "language_info": {
   "codemirror_mode": {
    "name": "ipython",
    "version": 3
   },
   "file_extension": ".py",
   "mimetype": "text/x-python",
   "name": "python",
   "nbconvert_exporter": "python",
   "pygments_lexer": "ipython3",
   "version": "3.9.9"
  }
 },
 "nbformat": 4,
 "nbformat_minor": 5
}
