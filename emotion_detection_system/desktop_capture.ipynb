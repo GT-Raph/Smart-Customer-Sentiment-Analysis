{
 "cells": [
  {
   "cell_type": "code",
   "execution_count": null,
   "id": "3211b775",
   "metadata": {},
   "outputs": [],
   "source": [
    "# %pip install opencv-python deepface mysql-connector-python numpy scipy ulid-py requests"
   ]
  },
  {
   "cell_type": "code",
   "execution_count": null,
   "id": "0e1a9533",
   "metadata": {},
   "outputs": [],
   "source": [
    "import cv2\n",
    "from deepface import DeepFace\n",
    "import mysql.connector\n",
    "import os\n",
    "import time\n",
    "from datetime import datetime\n",
    "import socket\n",
    "import numpy as np\n",
    "import json\n",
    "from scipy.spatial.distance import cosine\n",
    "import ulid  # For ULID face IDs\n",
    "import requests # added to send images to API\n",
    "import time"
   ]
  },
  {
   "cell_type": "code",
   "execution_count": null,
   "id": "a7665dd4",
   "metadata": {},
   "outputs": [],
   "source": [
    "def detect_faces_in_frame(frame, scaleFactor=1.1, minNeighbors=5, minSize=(60, 60)):\n",
    "    \"\"\"Return list of (x,y,w,h) for detected faces in BGR frame using OpenCV Haar cascade.\"\"\"\n",
    "    gray = cv2.cvtColor(frame, cv2.COLOR_BGR2GRAY)\n",
    "    cascade_path = cv2.data.haarcascades + 'haarcascade_frontalface_default.xml'\n",
    "    face_cascade = cv2.CascadeClassifier(cascade_path)\n",
    "    faces = face_cascade.detectMultiScale(gray, scaleFactor=scaleFactor, minNeighbors=minNeighbors, minSize=minSize)\n",
    "    return faces\n",
    "\n",
    "def should_capture_frame(frame, min_face_area=2000):\n",
    "    \"\"\"Return (bool, faces). True only if at least one detected face is larger than min_face_area.\"\"\"\n",
    "    faces = detect_faces_in_frame(frame)\n",
    "    if len(faces) == 0:\n",
    "        return False, []\n",
    "    big_faces = [f for f in faces if f[2] * f[3] >= min_face_area]\n",
    "    return (len(big_faces) > 0), big_faces\n",
    "\n",
    "# Usage example (call this in your capture loop BEFORE saving/sending):\n",
    "# ret, frame = cap.read()\n",
    "# should_capture, faces = should_capture_frame(frame)\n",
    "# if should_capture:\n",
    "#     # crop first face (or iterate faces) and encode/send\n",
    "#     x, y, w, h = faces[0]\n",
    "#     face_img = frame[y:y+h, x:x+w]\n",
    "#     ret, buf = cv2.imencode('.jpg', face_img)\n",
    "#     if ret:\n",
    "#         img_bytes = buf.tobytes()\n",
    "#         ok, body = send_image_to_api_safe(img_bytes, pc_name=socket.gethostname())\n",
    "#         # handle ok/body as needed\n",
    "# else:\n",
    "#     # no face -> skip saving/sending\n",
    "#     pass"
   ]
  },
  {
   "cell_type": "markdown",
   "id": "37bf841f",
   "metadata": {},
   "source": [
    "# ==== Configuration ====\n"
   ]
  },
  {
   "cell_type": "code",
   "execution_count": null,
   "id": "7ad8e960",
   "metadata": {},
   "outputs": [],
   "source": [
    "CHECK_INTERVAL = 10\n",
    "MAX_CAMERA_USE_TIME = 8\n",
    "CAPTURED_FACES_DIR = \"captured_faces\"\n",
    "EMBEDDING_MODEL = \"ArcFace\"\n",
    "MATCH_THRESHOLD = 0.45  # Adjust as needed\n",
    "API_URL = \"http://127.0.0.1:8000/upload-face\"  # endpoint to send captured images\n",
    "CLIENT_API_KEY = os.getenv('API_KEY', 'replace-me-with-a-secure-key')  # used for X-API-Key header"
   ]
  },
  {
   "cell_type": "markdown",
   "id": "27206830",
   "metadata": {},
   "source": [
    "# ==== Ensure storage directory exists ====\n"
   ]
  },
  {
   "cell_type": "code",
   "execution_count": null,
   "id": "8b239ae9",
   "metadata": {},
   "outputs": [],
   "source": [
    "def ensure_dir(directory):\n",
    "    if not os.path.exists(directory):\n",
    "        os.makedirs(directory)"
   ]
  },
  {
   "cell_type": "markdown",
   "id": "b3c4ea44",
   "metadata": {},
   "source": [
    "# ==== Get Embeddings DB ===="
   ]
  },
  {
   "cell_type": "code",
   "execution_count": null,
   "id": "a2cd275e",
   "metadata": {},
   "outputs": [],
   "source": [
    "def get_embeddings_db(cursor):\n",
    "    cursor.execute(\"SELECT face_id, embedding FROM captured_snapshots WHERE embedding IS NOT NULL\")\n",
    "    known = []\n",
    "    for face_id, emb_json in cursor.fetchall():\n",
    "        try:\n",
    "            emb = np.array(json.loads(emb_json), dtype=np.float64)\n",
    "            known.append((face_id, emb))\n",
    "        except Exception:\n",
    "            continue\n",
    "    return known"
   ]
  },
  {
   "cell_type": "markdown",
   "id": "722ecf1f",
   "metadata": {},
   "source": [
    "# ==== Get Face Embedding ===="
   ]
  },
  {
   "cell_type": "code",
   "execution_count": null,
   "id": "de31834c",
   "metadata": {},
   "outputs": [],
   "source": [
    "def get_face_embedding(face_img):\n",
    "    try:\n",
    "        # DeepFace expects a file path or numpy array (BGR)\n",
    "        reps = DeepFace.represent(face_img, model_name=EMBEDDING_MODEL, enforce_detection=False)\n",
    "        if reps and isinstance(reps, list):\n",
    "            emb = reps[0]['embedding']\n",
    "            return np.array(emb, dtype=np.float64)\n",
    "    except Exception as e:\n",
    "        print(f\"❌ Embedding error: {e}\")\n",
    "    return None"
   ]
  },
  {
   "cell_type": "markdown",
   "id": "92d95362",
   "metadata": {},
   "source": [
    "# ==== Match Face ID ===="
   ]
  },
  {
   "cell_type": "code",
   "execution_count": null,
   "id": "9832a399",
   "metadata": {},
   "outputs": [],
   "source": [
    "def match_face_id(embedding, known, threshold=MATCH_THRESHOLD):\n",
    "    for face_id, known_emb in known:\n",
    "        dist = cosine(embedding, known_emb)\n",
    "        if dist < threshold:\n",
    "            return face_id\n",
    "    return None"
   ]
  },
  {
   "cell_type": "markdown",
   "id": "2541781d",
   "metadata": {},
   "source": [
    "# ==== Generate ULID Face ID ===="
   ]
  },
  {
   "cell_type": "code",
   "execution_count": null,
   "id": "44072f50",
   "metadata": {},
   "outputs": [],
   "source": [
    "# ==== Generate ULID Face ID ====\n",
    "def generate_ulid():\n",
    "    return str(ulid.new())"
   ]
  },
  {
   "cell_type": "markdown",
   "id": "c01a3185",
   "metadata": {},
   "source": [
    "# ==== Assign and Reuse Face IDs ===="
   ]
  },
  {
   "cell_type": "code",
   "execution_count": null,
   "id": "585879c0",
   "metadata": {},
   "outputs": [],
   "source": [
    "# def get_or_create_face_id(pc_name):\n",
    "#     face_id_file = f\"{pc_name}_face_id.txt\"\n",
    "#     if os.path.exists(face_id_file):\n",
    "#         with open(face_id_file, \"r\") as f:\n",
    "#             return f.read().strip()\n",
    "#     else:\n",
    "#         import uuid\n",
    "#         face_id = f\"{pc_name}_{uuid.uuid4().hex[:8]}\"\n",
    "#         with open(face_id_file, \"w\") as f:\n",
    "#             f.write(face_id)\n",
    "#         return face_id"
   ]
  },
  {
   "cell_type": "markdown",
   "id": "53a7acc3",
   "metadata": {},
   "source": [
    "# ====  Save to Database ===="
   ]
  },
  {
   "cell_type": "code",
   "execution_count": null,
   "id": "d681aa64",
   "metadata": {},
   "outputs": [],
   "source": [
    "def save_snapshot_to_db(self, face_id, pc_name, image_path, timestamp, embedding):\n",
    "    sql = \"\"\"\n",
    "        INSERT INTO captured_snapshots (face_id, pc_name, image_path, timestamp, embedding)\n",
    "        VALUES (%s, %s, %s, %s, %s)\n",
    "    \"\"\"\n",
    "    emb_json = json.dumps(embedding.tolist()) if embedding is not None else None\n",
    "\n",
    "    # Ensure timestamp is a datetime object\n",
    "    if isinstance(timestamp, str):\n",
    "        timestamp = datetime.strptime(timestamp, '%Y-%m-%d %H:%M:%S')\n",
    "\n",
    "    self.cursor.execute(sql, (face_id, pc_name, image_path, timestamp, emb_json))\n",
    "    self.db.commit()\n"
   ]
  },
  {
   "cell_type": "markdown",
   "id": "a0767964",
   "metadata": {},
   "source": [
    "# ==== Main Background Face Recognition Class ====\n"
   ]
  },
  {
   "cell_type": "code",
   "execution_count": null,
   "id": "e020fc3a",
   "metadata": {},
   "outputs": [],
   "source": [
    "import requests\n",
    "\n",
    "def send_image_to_api(img_bytes, api_url, pc_name, headers=None, timeout=10):\n",
    "    \"\"\"\n",
    "    Sends image bytes to the API endpoint as multipart/form-data.\n",
    "    Legacy helper used by save_snapshot; will use CLIENT_API_KEY if headers not provided.\n",
    "    \"\"\"\n",
    "    if headers is None:\n",
    "        headers = {'X-API-Key': CLIENT_API_KEY}\n",
    "    files = {\n",
    "        'file': ('face.jpg', img_bytes, 'image/jpeg')\n",
    "    }\n",
    "    data = {'pc_name': pc_name}\n",
    "    resp = requests.post(api_url, files=files, data=data, headers=headers, timeout=timeout)\n",
    "    resp.raise_for_status()\n",
    "    try:\n",
    "        return resp.json()\n",
    "    except Exception:\n",
    "        return resp.text"
   ]
  },
  {
   "cell_type": "markdown",
   "id": "58e252ee",
   "metadata": {},
   "source": [
    "# ==== Start the service ====\n"
   ]
  },
  {
   "cell_type": "code",
   "execution_count": null,
   "id": "7b6f4662",
   "metadata": {},
   "outputs": [],
   "source": [
    "if __name__ == \"__main__\":\n",
    "    recognizer = None\n",
    "    try:\n",
    "        recognizer = BackgroundFaceCapture()\n",
    "        recognizer.run()\n",
    "    except KeyboardInterrupt:\n",
    "        print(\"🛑 Background service stopped manually.\")\n",
    "    finally:\n",
    "        if recognizer is not None:\n",
    "            recognizer.db.close()"
   ]
  },
  {
   "cell_type": "code",
   "execution_count": null,
   "id": "a356da46",
   "metadata": {},
   "outputs": [],
   "source": [
    "# Helper: send image bytes to the API endpoint (robust)\n",
    "import requests\n",
    "import time\n",
    "\n",
    "def send_image_to_api_safe(image_bytes, api_url=API_URL, pc_name=None, timeout=10, retries=2, backoff=1.0, headers=None):\n",
    "    \"\"\"Send a JPEG byte buffer to the API as multipart/form-data.\n",
    "    Returns a tuple (ok:bool, body: dict|str).\n",
    "    Logs every response to 'api_responses.log' with a timestamp.\n",
    "    This helper does not raise on network errors; it returns (False, error_message).\n",
    "    \"\"\"\n",
    "    if pc_name is None:\n",
    "        pc_name = socket.gethostname()\n",
    "    if headers is None:\n",
    "        headers = {'X-API-Key': CLIENT_API_KEY}\n",
    "\n",
    "    files = {\n",
    "        'file': ('capture.jpg', image_bytes, 'image/jpeg')\n",
    "    }\n",
    "    data = {'pc_name': pc_name}\n",
    "\n",
    "    last_exception = None\n",
    "    for attempt in range(retries + 1):\n",
    "        try:\n",
    "            resp = requests.post(api_url, files=files, data=data, headers=headers, timeout=timeout)\n",
    "            status = resp.status_code\n",
    "            try:\n",
    "                body = resp.json()\n",
    "            except Exception:\n",
    "                body = resp.text\n",
    "\n",
    "            # Log response for auditing\n",
    "            try:\n",
    "                log_entry = {\n",
    "                    'timestamp': datetime.utcnow().isoformat() + 'Z',\n",
    "                    'api_url': api_url,\n",
    "                    'status_code': status,\n",
    "                    'body': body\n",
    "                }\n",
    "                with open('api_responses.log', 'a', encoding='utf-8') as f:\n",
    "                    f.write(json.dumps(log_entry, ensure_ascii=False) + '\\n')\n",
    "            except Exception as log_err:\n",
    "                print(f\"⚠️ Failed to write API log: {log_err}\")\n",
    "\n",
    "            return (status == 200, body)\n",
    "\n",
    "        except requests.exceptions.RequestException as e:\n",
    "            last_exception = e\n",
    "            # simple backoff then retry\n",
    "            time.sleep(backoff * (attempt + 1))\n",
    "            continue\n",
    "\n",
    "    # all retries failed — return a clear failure tuple instead of raising\n",
    "    err_msg = str(last_exception) if last_exception is not None else 'Unknown network error'\n",
    "    try:\n",
    "        with open('api_responses.log', 'a', encoding='utf-8') as f:\n",
    "            f.write(json.dumps({'timestamp': datetime.utcnow().isoformat() + 'Z', 'error': err_msg}) + '\\n')\n",
    "    except Exception:\n",
    "        pass\n",
    "    return (False, err_msg)"
   ]
  },
  {
   "cell_type": "code",
   "execution_count": null,
   "id": "11bf3960",
   "metadata": {},
   "outputs": [],
   "source": [
    "# Small helper to check API health before starting background capture\n",
    "def check_api_health(api_url=API_URL, timeout=2):\n",
    "    try:\n",
    "        health_url = api_url.rstrip('/') + '/health'\n",
    "        r = requests.get(health_url, timeout=timeout)\n",
    "        return r.status_code == 200\n",
    "    except Exception:\n",
    "        return False\n",
    "\n",
    "# Use this check before starting the service; it prints clear status for the user.\n",
    "if __name__ == '__main__':\n",
    "    available = check_api_health(API_URL)\n",
    "    if available:\n",
    "        print(f\"✅ API appears reachable at {API_URL} — captured images will be uploaded.\")\n",
    "    else:\n",
    "        print(f\"⚠️ API not reachable at {API_URL}. Images will still be saved locally and logged; the notebook will keep retrying uploads.\")\n",
    "\n",
    "    recognizer = None\n",
    "    try:\n",
    "        recognizer = BackgroundFaceCapture()\n",
    "        recognizer.run()\n",
    "    except KeyboardInterrupt:\n",
    "        print(\"🛑 Background service stopped manually.\")\n",
    "    finally:\n",
    "        if recognizer is not None:\n",
    "            recognizer.db.close()"
   ]
  }
 ],
 "metadata": {
  "kernelspec": {
   "display_name": "Python 3",
   "language": "python",
   "name": "python3"
  },
  "language_info": {
   "codemirror_mode": {
    "name": "ipython",
    "version": 3
   },
   "file_extension": ".py",
   "mimetype": "text/x-python",
   "name": "python",
   "nbconvert_exporter": "python",
   "pygments_lexer": "ipython3",
   "version": "3.9.9"
  }
 },
 "nbformat": 4,
 "nbformat_minor": 5
}
